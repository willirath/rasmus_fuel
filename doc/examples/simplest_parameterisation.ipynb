{
 "cells": [
  {
   "cell_type": "markdown",
   "id": "c41d9811-a648-462f-aec9-a0ab32538abf",
   "metadata": {},
   "source": [
    "# Using the simplest possible power parameterisation"
   ]
  },
  {
   "cell_type": "markdown",
   "id": "902a1637-4eb1-4f05-9619-6879cd2ff9bf",
   "metadata": {},
   "source": [
    "## Create a random trajectory"
   ]
  },
  {
   "cell_type": "code",
   "execution_count": 1,
   "id": "1dc497af-ccba-4cda-8ac1-1c34daffc7ce",
   "metadata": {},
   "outputs": [],
   "source": [
    "import numpy as np\n",
    "import pandas as pd"
   ]
  },
  {
   "cell_type": "code",
   "execution_count": 2,
   "id": "3f39dc5e-0b0f-4487-9975-bd32a437d39b",
   "metadata": {},
   "outputs": [],
   "source": [
    "np.random.seed(12345)"
   ]
  },
  {
   "cell_type": "code",
   "execution_count": 3,
   "id": "bd75f31d-1e34-4f3a-a817-2b4a08ec5b80",
   "metadata": {},
   "outputs": [],
   "source": [
    "N_points = 100\n",
    "\n",
    "trajectory = pd.DataFrame(dict(\n",
    "    u_ship_og=6 + 0.5 * np.random.normal(size=(N_points, )),\n",
    "    v_ship_og=3 + 0.5 * np.random.normal(size=(N_points, )),\n",
    "    u_current=np.random.normal(size=(N_points, )),\n",
    "    v_current=np.random.normal(size=(N_points, )),\n",
    "))"
   ]
  },
  {
   "cell_type": "code",
   "execution_count": 4,
   "id": "8b880cf1-2719-46a8-a83b-6aea3228b447",
   "metadata": {},
   "outputs": [
    {
     "data": {
      "text/html": [
       "<div>\n",
       "<style scoped>\n",
       "    .dataframe tbody tr th:only-of-type {\n",
       "        vertical-align: middle;\n",
       "    }\n",
       "\n",
       "    .dataframe tbody tr th {\n",
       "        vertical-align: top;\n",
       "    }\n",
       "\n",
       "    .dataframe thead th {\n",
       "        text-align: right;\n",
       "    }\n",
       "</style>\n",
       "<table border=\"1\" class=\"dataframe\">\n",
       "  <thead>\n",
       "    <tr style=\"text-align: right;\">\n",
       "      <th></th>\n",
       "      <th>u_ship_og</th>\n",
       "      <th>v_ship_og</th>\n",
       "      <th>u_current</th>\n",
       "      <th>v_current</th>\n",
       "    </tr>\n",
       "  </thead>\n",
       "  <tbody>\n",
       "    <tr>\n",
       "      <th>0</th>\n",
       "      <td>5.897646</td>\n",
       "      <td>2.217171</td>\n",
       "      <td>1.127481</td>\n",
       "      <td>1.747234</td>\n",
       "    </tr>\n",
       "    <tr>\n",
       "      <th>1</th>\n",
       "      <td>6.239472</td>\n",
       "      <td>2.718730</td>\n",
       "      <td>-0.568363</td>\n",
       "      <td>-1.410246</td>\n",
       "    </tr>\n",
       "    <tr>\n",
       "      <th>2</th>\n",
       "      <td>5.740281</td>\n",
       "      <td>2.983668</td>\n",
       "      <td>0.309362</td>\n",
       "      <td>-0.378242</td>\n",
       "    </tr>\n",
       "    <tr>\n",
       "      <th>3</th>\n",
       "      <td>5.722135</td>\n",
       "      <td>2.535497</td>\n",
       "      <td>-0.577385</td>\n",
       "      <td>-0.345821</td>\n",
       "    </tr>\n",
       "    <tr>\n",
       "      <th>4</th>\n",
       "      <td>6.982890</td>\n",
       "      <td>2.758714</td>\n",
       "      <td>-1.168634</td>\n",
       "      <td>0.380062</td>\n",
       "    </tr>\n",
       "    <tr>\n",
       "      <th>...</th>\n",
       "      <td>...</td>\n",
       "      <td>...</td>\n",
       "      <td>...</td>\n",
       "      <td>...</td>\n",
       "    </tr>\n",
       "    <tr>\n",
       "      <th>95</th>\n",
       "      <td>6.397627</td>\n",
       "      <td>3.455491</td>\n",
       "      <td>-0.225524</td>\n",
       "      <td>0.131102</td>\n",
       "    </tr>\n",
       "    <tr>\n",
       "      <th>96</th>\n",
       "      <td>6.059055</td>\n",
       "      <td>2.489549</td>\n",
       "      <td>1.349726</td>\n",
       "      <td>-0.697614</td>\n",
       "    </tr>\n",
       "    <tr>\n",
       "      <th>97</th>\n",
       "      <td>5.625734</td>\n",
       "      <td>2.293292</td>\n",
       "      <td>1.350300</td>\n",
       "      <td>1.335649</td>\n",
       "    </tr>\n",
       "    <tr>\n",
       "      <th>98</th>\n",
       "      <td>6.292485</td>\n",
       "      <td>3.648304</td>\n",
       "      <td>-0.386653</td>\n",
       "      <td>-0.151039</td>\n",
       "    </tr>\n",
       "    <tr>\n",
       "      <th>99</th>\n",
       "      <td>6.076338</td>\n",
       "      <td>3.126138</td>\n",
       "      <td>0.865990</td>\n",
       "      <td>0.442938</td>\n",
       "    </tr>\n",
       "  </tbody>\n",
       "</table>\n",
       "<p>100 rows × 4 columns</p>\n",
       "</div>"
      ],
      "text/plain": [
       "      u_ship_og    v_ship_og  u_current  v_current\n",
       "0   5.897646  2.217171   1.127481   1.747234\n",
       "1   6.239472  2.718730  -0.568363  -1.410246\n",
       "2   5.740281  2.983668   0.309362  -0.378242\n",
       "3   5.722135  2.535497  -0.577385  -0.345821\n",
       "4   6.982890  2.758714  -1.168634   0.380062\n",
       "..       ...       ...        ...        ...\n",
       "95  6.397627  3.455491  -0.225524   0.131102\n",
       "96  6.059055  2.489549   1.349726  -0.697614\n",
       "97  5.625734  2.293292   1.350300   1.335649\n",
       "98  6.292485  3.648304  -0.386653  -0.151039\n",
       "99  6.076338  3.126138   0.865990   0.442938\n",
       "\n",
       "[100 rows x 4 columns]"
      ]
     },
     "metadata": {},
     "output_type": "display_data"
    }
   ],
   "source": [
    "display(trajectory)"
   ]
  },
  {
   "cell_type": "markdown",
   "id": "68503915-012b-4dc2-9321-64b98d3a0387",
   "metadata": {},
   "source": [
    "## Estimate power needed to maintain speed over ground"
   ]
  },
  {
   "cell_type": "code",
   "execution_count": 5,
   "id": "df109806-1f9a-49b1-ac85-1d11dd00a62d",
   "metadata": {},
   "outputs": [],
   "source": [
    "from rasmus_fuel.simplest import power_maintain_sog"
   ]
  },
  {
   "cell_type": "code",
   "execution_count": 6,
   "id": "c1393f38-76f3-4370-9661-a706b1f00936",
   "metadata": {},
   "outputs": [],
   "source": [
    "coefficient = 1.0"
   ]
  },
  {
   "cell_type": "code",
   "execution_count": 7,
   "id": "3e31c610-862b-426a-8e18-2512d7850ca4",
   "metadata": {},
   "outputs": [],
   "source": [
    "trajectory[\"power\"] = power_maintain_sog(**trajectory)"
   ]
  },
  {
   "cell_type": "code",
   "execution_count": 8,
   "id": "c72cd263-a3bd-48c3-806f-acafa3a12e36",
   "metadata": {},
   "outputs": [
    {
     "data": {
      "text/html": [
       "<div>\n",
       "<style scoped>\n",
       "    .dataframe tbody tr th:only-of-type {\n",
       "        vertical-align: middle;\n",
       "    }\n",
       "\n",
       "    .dataframe tbody tr th {\n",
       "        vertical-align: top;\n",
       "    }\n",
       "\n",
       "    .dataframe thead th {\n",
       "        text-align: right;\n",
       "    }\n",
       "</style>\n",
       "<table border=\"1\" class=\"dataframe\">\n",
       "  <thead>\n",
       "    <tr style=\"text-align: right;\">\n",
       "      <th></th>\n",
       "      <th>u_ship_og</th>\n",
       "      <th>v_ship_og</th>\n",
       "      <th>u_current</th>\n",
       "      <th>v_current</th>\n",
       "      <th>power</th>\n",
       "    </tr>\n",
       "  </thead>\n",
       "  <tbody>\n",
       "    <tr>\n",
       "      <th>0</th>\n",
       "      <td>5.897646</td>\n",
       "      <td>2.217171</td>\n",
       "      <td>1.127481</td>\n",
       "      <td>1.747234</td>\n",
       "      <td>139.841742</td>\n",
       "    </tr>\n",
       "    <tr>\n",
       "      <th>1</th>\n",
       "      <td>6.239472</td>\n",
       "      <td>2.718730</td>\n",
       "      <td>-0.568363</td>\n",
       "      <td>-1.410246</td>\n",
       "      <td>427.587668</td>\n",
       "    </tr>\n",
       "    <tr>\n",
       "      <th>2</th>\n",
       "      <td>5.740281</td>\n",
       "      <td>2.983668</td>\n",
       "      <td>0.309362</td>\n",
       "      <td>-0.378242</td>\n",
       "      <td>263.192981</td>\n",
       "    </tr>\n",
       "    <tr>\n",
       "      <th>3</th>\n",
       "      <td>5.722135</td>\n",
       "      <td>2.535497</td>\n",
       "      <td>-0.577385</td>\n",
       "      <td>-0.345821</td>\n",
       "      <td>300.309412</td>\n",
       "    </tr>\n",
       "    <tr>\n",
       "      <th>4</th>\n",
       "      <td>6.982890</td>\n",
       "      <td>2.758714</td>\n",
       "      <td>-1.168634</td>\n",
       "      <td>0.380062</td>\n",
       "      <td>539.066843</td>\n",
       "    </tr>\n",
       "    <tr>\n",
       "      <th>...</th>\n",
       "      <td>...</td>\n",
       "      <td>...</td>\n",
       "      <td>...</td>\n",
       "      <td>...</td>\n",
       "      <td>...</td>\n",
       "    </tr>\n",
       "    <tr>\n",
       "      <th>95</th>\n",
       "      <td>6.397627</td>\n",
       "      <td>3.455491</td>\n",
       "      <td>-0.225524</td>\n",
       "      <td>0.131102</td>\n",
       "      <td>399.136290</td>\n",
       "    </tr>\n",
       "    <tr>\n",
       "      <th>96</th>\n",
       "      <td>6.059055</td>\n",
       "      <td>2.489549</td>\n",
       "      <td>1.349726</td>\n",
       "      <td>-0.697614</td>\n",
       "      <td>207.377533</td>\n",
       "    </tr>\n",
       "    <tr>\n",
       "      <th>97</th>\n",
       "      <td>5.625734</td>\n",
       "      <td>2.293292</td>\n",
       "      <td>1.350300</td>\n",
       "      <td>1.335649</td>\n",
       "      <td>115.004930</td>\n",
       "    </tr>\n",
       "    <tr>\n",
       "      <th>98</th>\n",
       "      <td>6.292485</td>\n",
       "      <td>3.648304</td>\n",
       "      <td>-0.386653</td>\n",
       "      <td>-0.151039</td>\n",
       "      <td>429.462579</td>\n",
       "    </tr>\n",
       "    <tr>\n",
       "      <th>99</th>\n",
       "      <td>6.076338</td>\n",
       "      <td>3.126138</td>\n",
       "      <td>0.865990</td>\n",
       "      <td>0.442938</td>\n",
       "      <td>234.706947</td>\n",
       "    </tr>\n",
       "  </tbody>\n",
       "</table>\n",
       "<p>100 rows × 5 columns</p>\n",
       "</div>"
      ],
      "text/plain": [
       "      u_ship_og    v_ship_og  u_current  v_current       power\n",
       "0   5.897646  2.217171   1.127481   1.747234  139.841742\n",
       "1   6.239472  2.718730  -0.568363  -1.410246  427.587668\n",
       "2   5.740281  2.983668   0.309362  -0.378242  263.192981\n",
       "3   5.722135  2.535497  -0.577385  -0.345821  300.309412\n",
       "4   6.982890  2.758714  -1.168634   0.380062  539.066843\n",
       "..       ...       ...        ...        ...         ...\n",
       "95  6.397627  3.455491  -0.225524   0.131102  399.136290\n",
       "96  6.059055  2.489549   1.349726  -0.697614  207.377533\n",
       "97  5.625734  2.293292   1.350300   1.335649  115.004930\n",
       "98  6.292485  3.648304  -0.386653  -0.151039  429.462579\n",
       "99  6.076338  3.126138   0.865990   0.442938  234.706947\n",
       "\n",
       "[100 rows x 5 columns]"
      ]
     },
     "metadata": {},
     "output_type": "display_data"
    }
   ],
   "source": [
    "display(trajectory)"
   ]
  },
  {
   "cell_type": "code",
   "execution_count": 9,
   "id": "fc6e409c-4847-4efa-87b2-caf8240161ae",
   "metadata": {},
   "outputs": [
    {
     "data": {
      "image/png": "[encoded data removed]",
      "text/plain": [
       "<Figure size 432x288 with 5 Axes>"
      ]
     },
     "metadata": {
      "needs_background": "light"
     },
     "output_type": "display_data"
    }
   ],
   "source": [
    "trajectory.plot(subplots=True);"
   ]
  }
 ],
 "metadata": {
  "kernelspec": {
   "display_name": "Python 3 (ipykernel)",
   "language": "python",
   "name": "python3"
  },
  "language_info": {
   "codemirror_mode": {
    "name": "ipython",
    "version": 3
   },
   "file_extension": ".py",
   "mimetype": "text/x-python",
   "name": "python",
   "nbconvert_exporter": "python",
   "pygments_lexer": "ipython3",
   "version": "3.8.12"
  }
 },
 "nbformat": 4,
 "nbformat_minor": 5
}
