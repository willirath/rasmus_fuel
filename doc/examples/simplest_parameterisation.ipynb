{
 "cells": [
  {
   "cell_type": "markdown",
   "id": "c41d9811-a648-462f-aec9-a0ab32538abf",
   "metadata": {},
   "source": [
    "# Using the simplest possible power parameterisation"
   ]
  },
  {
   "cell_type": "markdown",
   "id": "902a1637-4eb1-4f05-9619-6879cd2ff9bf",
   "metadata": {},
   "source": [
    "## Create a random trajectory"
   ]
  },
  {
   "cell_type": "code",
   "execution_count": 1,
   "id": "1dc497af-ccba-4cda-8ac1-1c34daffc7ce",
   "metadata": {},
   "outputs": [],
   "source": [
    "import numpy as np\n",
    "import pandas as pd"
   ]
  },
  {
   "cell_type": "code",
   "execution_count": 2,
   "id": "3f39dc5e-0b0f-4487-9975-bd32a437d39b",
   "metadata": {},
   "outputs": [],
   "source": [
    "np.random.seed(12345)"
   ]
  },
  {
   "cell_type": "code",
   "execution_count": 3,
   "id": "bd75f31d-1e34-4f3a-a817-2b4a08ec5b80",
   "metadata": {},
   "outputs": [],
   "source": [
    "N_points = 100\n",
    "\n",
    "trajectory = pd.DataFrame(dict(\n",
    "    u_ship_og=12 + 0.1 * np.random.normal(size=(N_points, )),\n",
    "    v_ship_og=3 + 0.1 * np.random.normal(size=(N_points, )),\n",
    "    u_current=2.0 * np.random.normal(size=(N_points, )),\n",
    "    v_current=2.0 * np.random.normal(size=(N_points, )),\n",
    "))"
   ]
  },
  {
   "cell_type": "code",
   "execution_count": 4,
   "id": "8b880cf1-2719-46a8-a83b-6aea3228b447",
   "metadata": {},
   "outputs": [
    {
     "data": {
      "text/html": [
       "<div>\n",
       "<style scoped>\n",
       "    .dataframe tbody tr th:only-of-type {\n",
       "        vertical-align: middle;\n",
       "    }\n",
       "\n",
       "    .dataframe tbody tr th {\n",
       "        vertical-align: top;\n",
       "    }\n",
       "\n",
       "    .dataframe thead th {\n",
       "        text-align: right;\n",
       "    }\n",
       "</style>\n",
       "<table border=\"1\" class=\"dataframe\">\n",
       "  <thead>\n",
       "    <tr style=\"text-align: right;\">\n",
       "      <th></th>\n",
       "      <th>u_ship_og</th>\n",
       "      <th>v_ship_og</th>\n",
       "      <th>u_current</th>\n",
       "      <th>v_current</th>\n",
       "    </tr>\n",
       "  </thead>\n",
       "  <tbody>\n",
       "    <tr>\n",
       "      <th>0</th>\n",
       "      <td>11.979529</td>\n",
       "      <td>2.843434</td>\n",
       "      <td>2.254962</td>\n",
       "      <td>3.494467</td>\n",
       "    </tr>\n",
       "    <tr>\n",
       "      <th>1</th>\n",
       "      <td>12.047894</td>\n",
       "      <td>2.943746</td>\n",
       "      <td>-1.136727</td>\n",
       "      <td>-2.820492</td>\n",
       "    </tr>\n",
       "    <tr>\n",
       "      <th>2</th>\n",
       "      <td>11.948056</td>\n",
       "      <td>2.996734</td>\n",
       "      <td>0.618724</td>\n",
       "      <td>-0.756483</td>\n",
       "    </tr>\n",
       "    <tr>\n",
       "      <th>3</th>\n",
       "      <td>11.944427</td>\n",
       "      <td>2.907099</td>\n",
       "      <td>-1.154771</td>\n",
       "      <td>-0.691641</td>\n",
       "    </tr>\n",
       "    <tr>\n",
       "      <th>4</th>\n",
       "      <td>12.196578</td>\n",
       "      <td>2.951743</td>\n",
       "      <td>-2.337268</td>\n",
       "      <td>0.760125</td>\n",
       "    </tr>\n",
       "    <tr>\n",
       "      <th>...</th>\n",
       "      <td>...</td>\n",
       "      <td>...</td>\n",
       "      <td>...</td>\n",
       "      <td>...</td>\n",
       "    </tr>\n",
       "    <tr>\n",
       "      <th>95</th>\n",
       "      <td>12.079525</td>\n",
       "      <td>3.091098</td>\n",
       "      <td>-0.451048</td>\n",
       "      <td>0.262203</td>\n",
       "    </tr>\n",
       "    <tr>\n",
       "      <th>96</th>\n",
       "      <td>12.011811</td>\n",
       "      <td>2.897910</td>\n",
       "      <td>2.699452</td>\n",
       "      <td>-1.395228</td>\n",
       "    </tr>\n",
       "    <tr>\n",
       "      <th>97</th>\n",
       "      <td>11.925147</td>\n",
       "      <td>2.858658</td>\n",
       "      <td>2.700599</td>\n",
       "      <td>2.671299</td>\n",
       "    </tr>\n",
       "    <tr>\n",
       "      <th>98</th>\n",
       "      <td>12.058497</td>\n",
       "      <td>3.129661</td>\n",
       "      <td>-0.773307</td>\n",
       "      <td>-0.302078</td>\n",
       "    </tr>\n",
       "    <tr>\n",
       "      <th>99</th>\n",
       "      <td>12.015268</td>\n",
       "      <td>3.025228</td>\n",
       "      <td>1.731979</td>\n",
       "      <td>0.885876</td>\n",
       "    </tr>\n",
       "  </tbody>\n",
       "</table>\n",
       "<p>100 rows × 4 columns</p>\n",
       "</div>"
      ],
      "text/plain": [
       "    u_ship_og  v_ship_og  u_current  v_current\n",
       "0   11.979529   2.843434   2.254962   3.494467\n",
       "1   12.047894   2.943746  -1.136727  -2.820492\n",
       "2   11.948056   2.996734   0.618724  -0.756483\n",
       "3   11.944427   2.907099  -1.154771  -0.691641\n",
       "4   12.196578   2.951743  -2.337268   0.760125\n",
       "..        ...        ...        ...        ...\n",
       "95  12.079525   3.091098  -0.451048   0.262203\n",
       "96  12.011811   2.897910   2.699452  -1.395228\n",
       "97  11.925147   2.858658   2.700599   2.671299\n",
       "98  12.058497   3.129661  -0.773307  -0.302078\n",
       "99  12.015268   3.025228   1.731979   0.885876\n",
       "\n",
       "[100 rows x 4 columns]"
      ]
     },
     "metadata": {},
     "output_type": "display_data"
    }
   ],
   "source": [
    "display(trajectory)"
   ]
  },
  {
   "cell_type": "markdown",
   "id": "68503915-012b-4dc2-9321-64b98d3a0387",
   "metadata": {},
   "source": [
    "## Estimate power needed to maintain speed over ground"
   ]
  },
  {
   "cell_type": "code",
   "execution_count": 5,
   "id": "df109806-1f9a-49b1-ac85-1d11dd00a62d",
   "metadata": {},
   "outputs": [],
   "source": [
    "from rasmus_fuel.simplest import power_maintain_sog, power_to_fuel_burning_rate"
   ]
  },
  {
   "cell_type": "code",
   "execution_count": 6,
   "id": "c1393f38-76f3-4370-9661-a706b1f00936",
   "metadata": {},
   "outputs": [],
   "source": [
    "coefficient = 1.0"
   ]
  },
  {
   "cell_type": "code",
   "execution_count": 7,
   "id": "3e31c610-862b-426a-8e18-2512d7850ca4",
   "metadata": {},
   "outputs": [],
   "source": [
    "trajectory[\"power\"] = power_maintain_sog(**trajectory, coeff=coefficient)"
   ]
  },
  {
   "cell_type": "code",
   "execution_count": 8,
   "id": "8700cd4e-b7d5-4b9f-b5d8-b5a8b32002cb",
   "metadata": {},
   "outputs": [],
   "source": [
    "trajectory[\"fuel_rate\"] = power_to_fuel_burning_rate(trajectory[\"power\"])"
   ]
  },
  {
   "cell_type": "code",
   "execution_count": 9,
   "id": "c72cd263-a3bd-48c3-806f-acafa3a12e36",
   "metadata": {},
   "outputs": [
    {
     "data": {
      "text/html": [
       "<div>\n",
       "<style scoped>\n",
       "    .dataframe tbody tr th:only-of-type {\n",
       "        vertical-align: middle;\n",
       "    }\n",
       "\n",
       "    .dataframe tbody tr th {\n",
       "        vertical-align: top;\n",
       "    }\n",
       "\n",
       "    .dataframe thead th {\n",
       "        text-align: right;\n",
       "    }\n",
       "</style>\n",
       "<table border=\"1\" class=\"dataframe\">\n",
       "  <thead>\n",
       "    <tr style=\"text-align: right;\">\n",
       "      <th></th>\n",
       "      <th>u_ship_og</th>\n",
       "      <th>v_ship_og</th>\n",
       "      <th>u_current</th>\n",
       "      <th>v_current</th>\n",
       "      <th>power</th>\n",
       "      <th>fuel_rate</th>\n",
       "    </tr>\n",
       "  </thead>\n",
       "  <tbody>\n",
       "    <tr>\n",
       "      <th>0</th>\n",
       "      <td>11.979529</td>\n",
       "      <td>2.843434</td>\n",
       "      <td>2.254962</td>\n",
       "      <td>3.494467</td>\n",
       "      <td>1117.364353</td>\n",
       "      <td>0.000053</td>\n",
       "    </tr>\n",
       "    <tr>\n",
       "      <th>1</th>\n",
       "      <td>12.047894</td>\n",
       "      <td>2.943746</td>\n",
       "      <td>-1.136727</td>\n",
       "      <td>-2.820492</td>\n",
       "      <td>2529.913503</td>\n",
       "      <td>0.000120</td>\n",
       "    </tr>\n",
       "    <tr>\n",
       "      <th>2</th>\n",
       "      <td>11.948056</td>\n",
       "      <td>2.996734</td>\n",
       "      <td>0.618724</td>\n",
       "      <td>-0.756483</td>\n",
       "      <td>1749.777352</td>\n",
       "      <td>0.000083</td>\n",
       "    </tr>\n",
       "    <tr>\n",
       "      <th>3</th>\n",
       "      <td>11.944427</td>\n",
       "      <td>2.907099</td>\n",
       "      <td>-1.154771</td>\n",
       "      <td>-0.691641</td>\n",
       "      <td>2267.591153</td>\n",
       "      <td>0.000108</td>\n",
       "    </tr>\n",
       "    <tr>\n",
       "      <th>4</th>\n",
       "      <td>12.196578</td>\n",
       "      <td>2.951743</td>\n",
       "      <td>-2.337268</td>\n",
       "      <td>0.760125</td>\n",
       "      <td>2700.526265</td>\n",
       "      <td>0.000129</td>\n",
       "    </tr>\n",
       "    <tr>\n",
       "      <th>...</th>\n",
       "      <td>...</td>\n",
       "      <td>...</td>\n",
       "      <td>...</td>\n",
       "      <td>...</td>\n",
       "      <td>...</td>\n",
       "      <td>...</td>\n",
       "    </tr>\n",
       "    <tr>\n",
       "      <th>95</th>\n",
       "      <td>12.079525</td>\n",
       "      <td>3.091098</td>\n",
       "      <td>-0.451048</td>\n",
       "      <td>0.262203</td>\n",
       "      <td>2056.733168</td>\n",
       "      <td>0.000098</td>\n",
       "    </tr>\n",
       "    <tr>\n",
       "      <th>96</th>\n",
       "      <td>12.011811</td>\n",
       "      <td>2.897910</td>\n",
       "      <td>2.699452</td>\n",
       "      <td>-1.395228</td>\n",
       "      <td>1274.605855</td>\n",
       "      <td>0.000061</td>\n",
       "    </tr>\n",
       "    <tr>\n",
       "      <th>97</th>\n",
       "      <td>11.925147</td>\n",
       "      <td>2.858658</td>\n",
       "      <td>2.700599</td>\n",
       "      <td>2.671299</td>\n",
       "      <td>1019.888809</td>\n",
       "      <td>0.000049</td>\n",
       "    </tr>\n",
       "    <tr>\n",
       "      <th>98</th>\n",
       "      <td>12.058497</td>\n",
       "      <td>3.129661</td>\n",
       "      <td>-0.773307</td>\n",
       "      <td>-0.302078</td>\n",
       "      <td>2197.932609</td>\n",
       "      <td>0.000105</td>\n",
       "    </tr>\n",
       "    <tr>\n",
       "      <th>99</th>\n",
       "      <td>12.015268</td>\n",
       "      <td>3.025228</td>\n",
       "      <td>1.731979</td>\n",
       "      <td>0.885876</td>\n",
       "      <td>1365.750152</td>\n",
       "      <td>0.000065</td>\n",
       "    </tr>\n",
       "  </tbody>\n",
       "</table>\n",
       "<p>100 rows × 6 columns</p>\n",
       "</div>"
      ],
      "text/plain": [
       "    u_ship_og  v_ship_og  u_current  v_current        power  fuel_rate\n",
       "0   11.979529   2.843434   2.254962   3.494467  1117.364353   0.000053\n",
       "1   12.047894   2.943746  -1.136727  -2.820492  2529.913503   0.000120\n",
       "2   11.948056   2.996734   0.618724  -0.756483  1749.777352   0.000083\n",
       "3   11.944427   2.907099  -1.154771  -0.691641  2267.591153   0.000108\n",
       "4   12.196578   2.951743  -2.337268   0.760125  2700.526265   0.000129\n",
       "..        ...        ...        ...        ...          ...        ...\n",
       "95  12.079525   3.091098  -0.451048   0.262203  2056.733168   0.000098\n",
       "96  12.011811   2.897910   2.699452  -1.395228  1274.605855   0.000061\n",
       "97  11.925147   2.858658   2.700599   2.671299  1019.888809   0.000049\n",
       "98  12.058497   3.129661  -0.773307  -0.302078  2197.932609   0.000105\n",
       "99  12.015268   3.025228   1.731979   0.885876  1365.750152   0.000065\n",
       "\n",
       "[100 rows x 6 columns]"
      ]
     },
     "metadata": {},
     "output_type": "display_data"
    }
   ],
   "source": [
    "display(trajectory)"
   ]
  },
  {
   "cell_type": "code",
   "execution_count": 10,
   "id": "fc6e409c-4847-4efa-87b2-caf8240161ae",
   "metadata": {},
   "outputs": [
    {
     "data": {
      "image/png": "[encoded data removed]",
      "text/plain": [
       "<Figure size 432x288 with 6 Axes>"
      ]
     },
     "metadata": {
      "needs_background": "light"
     },
     "output_type": "display_data"
    }
   ],
   "source": [
    "trajectory.plot(subplots=True);"
   ]
  }
 ],
 "metadata": {
  "kernelspec": {
   "display_name": "Python 3 (ipykernel)",
   "language": "python",
   "name": "python3"
  },
  "language_info": {
   "codemirror_mode": {
    "name": "ipython",
    "version": 3
   },
   "file_extension": ".py",
   "mimetype": "text/x-python",
   "name": "python",
   "nbconvert_exporter": "python",
   "pygments_lexer": "ipython3",
   "version": "3.8.12"
  }
 },
 "nbformat": 4,
 "nbformat_minor": 5
}
